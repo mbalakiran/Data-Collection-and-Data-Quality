{
 "cells": [
  {
   "cell_type": "code",
   "execution_count": 1,
   "metadata": {},
   "outputs": [],
   "source": [
    "from bs4 import BeautifulSoup\n",
    "import requests\n",
    "import urllib\n",
    "from urllib.request import urlopen\n",
    "import pandas as pd"
   ]
  },
  {
   "cell_type": "code",
   "execution_count": 2,
   "metadata": {},
   "outputs": [
    {
     "name": "stdout",
     "output_type": "stream",
     "text": [
      "Status code:  200\n"
     ]
    }
   ],
   "source": [
    "#task 1\n",
    "# desktop user-agent\n",
    "USER_AGENT = \"Mozilla/5.0 (Macintosh; Intel Mac OS X 10.14; rv:65.0) Gecko/20100101 Firefox/65.0\"\n",
    "\n",
    "headers = {\"user-agent\": USER_AGENT}\n",
    "r = requests.get(\"https://searchenterpriseai.techtarget.com/definition/AI-Artificial-Intelligence#:~:text=Artificial%20intelligence%20(AI)%20is%20the,speech%20recognition%20and%20machine%20vision.\", headers=headers)\n",
    "\n",
    "print(\"Status code: \", r.status_code)\n",
    "\n",
    "# resp = requests.get(URL, headers=headers)\n",
    "soup = BeautifulSoup(r.content, \"html.parser\")\n",
    "\n",
    "# name the output file to write to local disk\n",
    "out_filename = \"Artificial intelligence.txt\"\n",
    "\n",
    "results = soup.find(\"div\",{\"class\":\"main-content\"})\n",
    "\n",
    "text = results.findAll(\"div\", {\"class\": \"content-center\"})\n",
    "\n",
    "title = soup.find(\"header\", {\"class\": \"definition-header\"})\n",
    "title1 = title.find('h1').text\n",
    "\n",
    "# opens file, and writes headers\n",
    "f = open(out_filename, \"w\")\n",
    "\n",
    "print(title1, file=open(out_filename, \"a\"))\n",
    "\n",
    "for p in soup.find_all(\"section\", class_='section definition-section'):\n",
    "\n",
    "    summary = p.text\n",
    "    print(summary, file=open(out_filename, \"a\"))\n",
    "\n",
    "f.close()  # Close the file"
   ]
  },
  {
   "cell_type": "code",
   "execution_count": 3,
   "metadata": {},
   "outputs": [
    {
     "name": "stdout",
     "output_type": "stream",
     "text": [
      "Status code:  200\n"
     ]
    }
   ],
   "source": [
    "#Task 1.1\n",
    "# desktop user-agent\n",
    "USER_AGENT = \"Mozilla/5.0 (Macintosh; Intel Mac OS X 10.14; rv:65.0) Gecko/20100101 Firefox/65.0\"\n",
    "\n",
    "headers = {\"user-agent\": USER_AGENT}\n",
    "r = requests.get(\"https://www.toptal.com/machine-learning/machine-learning-theory-an-introductory-primer\", headers=headers)\n",
    "\n",
    "print(\"Status code: \", r.status_code)\n",
    "\n",
    "# resp = requests.get(URL, headers=headers)\n",
    "soup = BeautifulSoup(r.content, \"html.parser\")\n",
    "\n",
    "# name the output file to write to local disk\n",
    "out_filename = \"Machine learning.txt\"\n",
    "\n",
    "results = soup.find(\"div\",{\"class\":\"section has-standard_width has-medium_padding\"})\n",
    "\n",
    "text = results.findAll(\"div\", {\"class\": \"blog_post_body\"})\n",
    "\n",
    "title = soup.find(\"div\", {\"class\": \"article_bio\"})\n",
    "title1 = title.find('h1').text\n",
    "\n",
    "# opens file, and writes headers\n",
    "f = open(out_filename, \"w\")\n",
    "\n",
    "print(title1, file=open(out_filename, \"a\"))\n",
    "\n",
    "for p in soup.find_all(\"div\", class_='blog_post_body'):\n",
    "\n",
    "    summary = p.text\n",
    "    print(summary, file=open(out_filename, \"a\"))\n",
    "\n",
    "f.close()  # Close the file"
   ]
  }
 ],
 "metadata": {
  "kernelspec": {
   "display_name": "Python 3",
   "language": "python",
   "name": "python3"
  },
  "language_info": {
   "codemirror_mode": {
    "name": "ipython",
    "version": 3
   },
   "file_extension": ".py",
   "mimetype": "text/x-python",
   "name": "python",
   "nbconvert_exporter": "python",
   "pygments_lexer": "ipython3",
   "version": "3.8.3"
  }
 },
 "nbformat": 4,
 "nbformat_minor": 4
}
